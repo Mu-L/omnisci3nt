{
 "cells": [
  {
   "cell_type": "markdown",
   "metadata": {},
   "source": [
    "# 🔍 Omnisci3nt - Web Recon Tool (Colab Edition)\n",
    "\n",
    "> Run powerful recon on any domain right here in Google Colab.\n",
    "\n",
    "---\n",
    "⭐️ GitHub: [spyboy-productions/omnisci3nt](https://github.com/spyboy-productions/omnisci3nt)\n",
    "\n",
    "👉 If you like this tool, please star the repo!"
   ]
  },
  {
   "cell_type": "code",
   "execution_count": null,
   "metadata": {},
   "outputs": [],
   "source": [
    "# 📦 Clone the repository and install dependencies\n",
    "!git clone https://github.com/spyboy-productions/omnisci3nt.git\n",
    "%cd omnisci3nt\n",
    "!pip install -r requirements.txt"
   ]
  },
  {
   "cell_type": "markdown",
   "metadata": {},
   "source": [
    "## 🛠 Select Module & Enter Domain"
   ]
  },
  {
   "cell_type": "code",
   "execution_count": null,
   "metadata": {},
   "outputs": [],
   "source": [
    "# 🔧 User Input: Choose recon module & domain\n",
    "\n",
    "import ipywidgets as widgets\n",
    "from IPython.display import display, Markdown\n",
    "\n",
    "module = widgets.Dropdown(\n",
    "    options=[\n",
    "        ('IP Lookup', '-ip'),\n",
    "        ('WHOIS', '-whois'),\n",
    "        ('Headers', '-headers'),\n",
    "        ('SSL', '-ssl'),\n",
    "        ('DNS', '-dns'),\n",
    "        ('Reverse DNS', '-reversedns'),\n",
    "        ('Shared DNS', '-shareddns'),\n",
    "        ('Subdomains', '-subdomains'),\n",
    "        ('DMARC', '-dmarc'),\n",
    "        ('Web Crawler', '-crawl'),\n",
    "        ('Robots/Sitemap', '-robots'),\n",
    "        ('Technology Detection', '-tech'),\n",
    "        ('Wayback Machine', '-wayback'),\n",
    "        ('Social Media/Email', '-social'),\n",
    "        ('Directory Scan', '-dirscan'),\n",
    "        ('Port Scan', '-portscan'),\n",
    "        ('Admin Page Detection', '-admin'),\n",
    "        ('Run All', '-all')\n",
    "    ],\n",
    "    description='Module:'\n",
    ")\n",
    "domain = widgets.Text(description='Domain:')\n",
    "\n",
    "display(module, domain)"
   ]
  },
  {
   "cell_type": "markdown",
   "metadata": {},
   "source": [
    "## ▶️ Run Omnisci3nt with selected options"
   ]
  },
  {
   "cell_type": "code",
   "execution_count": null,
   "metadata": {},
   "outputs": [],
   "source": [
    "# 🚀 Execute recon module\n",
    "\n",
    "import os\n",
    "def run_omnisci3nt(m, d):\n",
    "    if not d:\n",
    "        display(Markdown('**❌ Please enter a valid domain.**'))\n",
    "        return\n",
    "    print(f\"Running: python3 -m omnisci3nt.omnisci3nt {m} {d}\\n\")\n",
    "    os.system(f\"python3 -m omnisci3nt.omnisci3nt {m} {d}\")\n",
    "\n",
    "run_button = widgets.Button(description=\"Run Scan\", button_style='success')\n",
    "output = widgets.Output()\n",
    "\n",
    "def on_button_click(b):\n",
    "    with output:\n",
    "        output.clear_output()\n",
    "        run_omnisci3nt(module.value, domain.value)\n",
    "\n",
    "run_button.on_click(on_button_click)\n",
    "display(run_button, output)"
   ]
  },
  {
   "cell_type": "markdown",
   "metadata": {},
   "source": [
    "---\n",
    "Made with 💻 by [spyboy-productions](https://github.com/spyboy-productions)"
   ]
  }
 ],
 "metadata": {
  "colab": {
   "provenance": [],
   "authorship_tag": "created-by-ChatGPT",
   "include_colab_link": true
  },
  "kernelspec": {
   "display_name": "Python 3",
   "language": "python",
   "name": "python3"
  },
  "language_info": {
   "name": "python"
  }
 },
 "nbformat": 4,
 "nbformat_minor": 0
}
